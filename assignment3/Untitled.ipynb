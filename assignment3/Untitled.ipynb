{
 "cells": [
  {
   "cell_type": "markdown",
   "metadata": {},
   "source": [
    "$\\left(\n",
    "\\begin{matrix}\n",
    "1 & 2 & 3 & 4\\\\\n",
    "1 & 2 & 3 & 4\\\\\n",
    "1 & 2 & 3 & 4\\\\\n",
    "1 & 2 & 3 & 4\\\\\n",
    "\\end{matrix}\n",
    "\\right)$"
   ]
  },
  {
   "cell_type": "code",
   "execution_count": 13,
   "metadata": {},
   "outputs": [],
   "source": [
    "import numpy as np\n",
    "from scipy.integrate import quad\n",
    "import matplotlib.pyplot as plt"
   ]
  },
  {
   "cell_type": "code",
   "execution_count": 14,
   "metadata": {},
   "outputs": [],
   "source": [
    "def cosk(x,k):\n",
    "    return np.exp(x)*np.cos(k*x)\n",
    "def sink(x,k):\n",
    "    return np.exp(x)*np.sin(k*x)"
   ]
  },
  {
   "cell_type": "code",
   "execution_count": 15,
   "metadata": {},
   "outputs": [
    {
     "data": {
      "text/plain": [
       "array([1, 1, 2])"
      ]
     },
     "execution_count": 15,
     "metadata": {},
     "output_type": "execute_result"
    }
   ],
   "source": [
    "a=[]\n",
    "a0=np.array([1,1])\n",
    "np.append(a0,2)"
   ]
  },
  {
   "cell_type": "code",
   "execution_count": 27,
   "metadata": {},
   "outputs": [
    {
     "name": "stdout",
     "output_type": "stream",
     "text": [
      "267.2458277623824\n",
      "106.89833110495303\n",
      "53.44916555247658\n",
      "31.440685619103775\n",
      "20.55737136633695\n",
      "14.445720419588085\n",
      "10.689833110495355\n",
      "8.222948546534862\n",
      "6.51819092103375\n",
      "5.291996589353955\n",
      "4.381079143645125\n",
      "3.6861493484456958\n",
      "3.1440685619097897\n",
      "2.713155611800535\n",
      "2.3650073253309114\n",
      "2.079734068189858\n",
      "1.8430746742235302\n",
      "1.6445897093070667\n",
      "1.476496285980173\n",
      "1.33289689657071\n",
      "1.2092571391962388\n",
      "1.1020446505663908\n",
      "1.008474821744781\n",
      "0.9263286924163443\n",
      "[ 54.15532718  85.06698902 -85.06698902  34.02679561 -68.05359121\n",
      "  17.0133978  -51.04019341  10.00788106 -40.03152424   6.54361454\n",
      " -32.7180727    4.59821562 -27.58929374   3.40267956 -23.81875693\n",
      "   2.61744582 -20.93956653   2.07480461 -18.67324149   1.68449483\n",
      " -16.84494832   1.3945408  -15.33994884   1.17333778 -14.08005335\n",
      "   1.00078811 -13.01024538   0.86362425 -12.09073956   0.75280521\n",
      " -11.29207819   0.66199991 -10.59199863   0.58666889  -9.97337113\n",
      "   0.52348916  -9.42280494   0.46998336  -8.92968393   0.42427426\n",
      "  -8.48548519   0.3849185   -8.08328855   0.35079171  -7.71741756\n",
      "   0.32100751  -7.38317263   0.29485958  -7.07662994]\n"
     ]
    },
    {
     "data": {
      "text/plain": [
       "[<matplotlib.lines.Line2D at 0x7f6741271d30>]"
      ]
     },
     "execution_count": 27,
     "metadata": {},
     "output_type": "execute_result"
    },
    {
     "data": {
      "image/png": "[encoded data removed]",
      "text/plain": [
       "<matplotlib.figure.Figure at 0x7f67412c77b8>"
      ]
     },
     "metadata": {},
     "output_type": "display_data"
    }
   ],
   "source": [
    "a0=quad(np.exp,0,2*np.pi)[0]/np.pi\n",
    "coff=([a0])\n",
    "for i in range(1,25):\n",
    "    ai=quad(cosk,0,2*np.pi,args=(i))[0]\n",
    "    bi=quad(sink,0,2*np.pi,args=(i))[0]\n",
    "    print (ai)\n",
    "    coff.append(ai)\n",
    "    coff.append(bi)\n",
    "coff=np.array(coff)/np.pi\n",
    "print (coff)\n",
    "plt.loglog(abs(coff),\"ro\")"
   ]
  },
  {
   "cell_type": "code",
   "execution_count": 32,
   "metadata": {},
   "outputs": [
    {
     "name": "stderr",
     "output_type": "stream",
     "text": [
      "/home/milind/anaconda3/lib/python3.6/site-packages/ipykernel_launcher.py:8: FutureWarning: `rcond` parameter will change to the default of machine precision times ``max(M, N)`` where M and N are the input matrix dimensions.\n",
      "To use the future default and silence this warning we advise to pass `rcond=None`, to keep using the old, explicitly pass `rcond=-1`.\n",
      "  \n"
     ]
    },
    {
     "data": {
      "text/plain": [
       "[<matplotlib.lines.Line2D at 0x7f6740b7e470>]"
      ]
     },
     "execution_count": 32,
     "metadata": {},
     "output_type": "execute_result"
    },
    {
     "data": {
      "image/png": "[encoded data removed]",
      "text/plain": [
       "<matplotlib.figure.Figure at 0x7f6740f2f9b0>"
      ]
     },
     "metadata": {},
     "output_type": "display_data"
    }
   ],
   "source": [
    "x=np.linspace(0,2*np.pi,401)[:-1]\n",
    "b= np.exp(x)\n",
    "A=np.zeros((400,51))\n",
    "A[:,0]=1\n",
    "for i in range(1,26):\n",
    "    A[:,2*i-1]=np.cos(i*x)\n",
    "    A[:,2*i]=np.sin(i*x)\n",
    "c=np.linalg.lstsq(A,b)[0]\n",
    "plt.loglog(abs(c),\"go\")"
   ]
  },
  {
   "cell_type": "code",
   "execution_count": 29,
   "metadata": {},
   "outputs": [],
   "source": [
    "np.linalg.lstsq?"
   ]
  },
  {
   "cell_type": "code",
   "execution_count": 33,
   "metadata": {},
   "outputs": [],
   "source": [
    "import scipy"
   ]
  },
  {
   "cell_type": "code",
   "execution_count": 34,
   "metadata": {},
   "outputs": [],
   "source": [
    "scipy.special.j1?"
   ]
  },
  {
   "cell_type": "code",
   "execution_count": 37,
   "metadata": {},
   "outputs": [],
   "source": [
    "\n",
    "from scipy.special import j1 as j1\n",
    "x= np.linspace(0,20,41)\n",
    "for i in range(1,len(x)-2):\n",
    "    jvec=j1()"
   ]
  },
  {
   "cell_type": "code",
   "execution_count": 39,
   "metadata": {},
   "outputs": [],
   "source": [
    "import mpl_toolkits.mplot3d.axes3d as p3"
   ]
  },
  {
   "cell_type": "code",
   "execution_count": 43,
   "metadata": {},
   "outputs": [
    {
     "name": "stdout",
     "output_type": "stream",
     "text": [
      "(array([], dtype=int64),)\n"
     ]
    }
   ],
   "source": [
    "n=100\n",
    "M=5\n",
    "Niter=500\n",
    "p=0.5\n",
    "u0=7\n",
    "xx=np.zeros(500)\n",
    "dx=np.zeros(500)\n",
    "u=np.zeros(500)\n",
    "I=[]\n",
    "X=[]\n",
    "V=[]\n",
    "ii=np.where(xx>0)\n",
    "for _ in range(0,Niter):\n",
    "    dx[ii]=u[ii]+0.5\n",
    "    u[ii]=u[ii]+1\n",
    "    xx[ii]=x[ii]+dx[ii]\n",
    "    anode=np.where(x>n)\n",
    "    xx[anode]=0\n",
    "    dx[anode]=0\n",
    "    u[anode]=0\n",
    "    kk=np.where(u>u0)\n",
    "    ll=np.where(np.random.random(len(kk[0]))<p)\n",
    "    kl=np.array(kk[0][ll])"
   ]
  },
  {
   "cell_type": "code",
   "execution_count": null,
   "metadata": {},
   "outputs": [],
   "source": []
  }
 ],
 "metadata": {
  "kernelspec": {
   "display_name": "Python 2",
   "language": "python",
   "name": "python2"
  },
  "language_info": {
   "codemirror_mode": {
    "name": "ipython",
    "version": 3
   },
   "file_extension": ".py",
   "mimetype": "text/x-python",
   "name": "python",
   "nbconvert_exporter": "python",
   "pygments_lexer": "ipython3",
   "version": "3.6.4"
  }
 },
 "nbformat": 4,
 "nbformat_minor": 2
}
