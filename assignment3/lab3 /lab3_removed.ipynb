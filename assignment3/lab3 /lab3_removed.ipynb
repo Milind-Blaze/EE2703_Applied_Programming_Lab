{
 "metadata": {
  "kernelspec": {
   "display_name": "Python 2",
   "language": "python",
   "name": "python2"
  },
  "language_info": {
   "codemirror_mode": {
    "name": "ipython",
    "version": 2
   },
   "file_extension": ".py",
   "mimetype": "text/x-python",
   "name": "python",
   "nbconvert_exporter": "python",
   "pygments_lexer": "ipython2",
   "version": "2.7.6"
  },
  "name": ""
 },
 "nbformat": 3,
 "nbformat_minor": 0,
 "worksheets": [
  {
   "cells": [
    {
     "cell_type": "markdown",
     "metadata": {},
     "source": [
      "# Abstract\n",
      "\n",
      "This report explores the usage of scientific python to determine the Fourier coefficients of selected functions. Further, it also looks at the convergence of fourier series and attempts to draw conclusions about the convergence of the fourier series of piecewise smooth functions and the Gibbs phenomenon. Two approaches are used to determine the fourier coefficients- integration using the quad function and the least squares approach.  "
     ]
    },
    {
     "cell_type": "markdown",
     "metadata": {},
     "source": [
      "# Introduction\n",
      "\n",
      "Two functions are considered for the following fourier analysis- the exponential function $e^x$ and the $cos(cos(x))$ function. The former function is extended periodically to the real number line and is $2\\pi$ periodic. The $cos(cos(x))$ function is periodic and continuous with the period $2\\pi$. The $quad$ function from the Scipy library is used to obtain the first 51 fourier coefficients of the functions. These are plotted and analysed. This is followed by the use of the least squares approach to do the same. Finally the reconstructed functions are analysed.  "
     ]
    },
    {
     "cell_type": "markdown",
     "metadata": {},
     "source": [
      "# Methods and results\n",
      "\n",
      "We begin by making the necessary imports- the numpy and matplotlib libraries and $quad$ from the scipy library. Furhter we set all image sizes to 10 x 8. The functions necessary to obtain the fourier coefficients are defined the next piece of code. These include the $e^x$, $cos(cos(x))$, $e^{x}cos(kx)$, $e^{x}six(kx)$, $cos(cos(x))cos(kx)$, $cos(cos(x))sin(kx)$. The latter eight functions are integrated to obtaing the $kth$ fourier coefficients $a_k$ and $b_k$.  \n",
      "\n"
     ]
    },
    {
     "cell_type": "code",
     "collapsed": false,
     "input": [
      "from __future__ import division\n",
      "% matplotlib inline\n",
      "\n",
      "import numpy as np\n",
      "import matplotlib\n",
      "from matplotlib import pyplot as plt\n",
      "from scipy.integrate import quad\n",
      "\n",
      "size=(10,8)"
     ],
     "inputs": [],
     "language": "python",
     "metadata": {},
     "outputs": [],
     "prompt_number": 139
    },
    {
     "cell_type": "code",
     "collapsed": false,
     "input": [
      "\n",
      "#functions\n",
      "\n",
      "def exponential(x):\n",
      "    return np.exp(x)\n",
      "\n",
      "def coscos(x):\n",
      "    return np.cos(np.cos(x))\n",
      "\n",
      "def expcos(x,k):\n",
      "    return (exponential(x))*np.cos(k*x)\n",
      "\n",
      "def expsin(x,k):\n",
      "    return (exponential(x))*np.sin(k*x)\n",
      "\n",
      "def cccos(x,k):\n",
      "    return (coscos(x))*np.cos(k*x)\n",
      "\n",
      "def ccsin(x,k):\n",
      "    return (coscos(x))*np.sin(k*x)"
     ],
     "inputs": [],
     "language": "python",
     "metadata": {},
     "outputs": [],
     "prompt_number": 140
    },
    {
     "cell_type": "markdown",
     "metadata": {},
     "source": [
      "The following two functions are the focus of this work and are inherently $2\\pi$ periodic or extended to be so on the real number line. \n",
      "\n",
      "\\begin{align}\n",
      "f_1(x) &= e^x\\\\\n",
      "f_2(x ) &= cos(cos(x))\n",
      "\\end{align}\n",
      "\n",
      "The exponential function is plotted on the semilog scale and the $cos(cos(x))$ function on the linear scale over the interval $[-2\\pi, 4\\pi)$. The input vector to the predefined functions is created using the $arange$ function in numpy. \n"
     ]
    },
    {
     "cell_type": "code",
     "collapsed": false,
     "input": [
      "valuerange= np.arange(-2*np.pi, 4*np.pi, 0.1)\n",
      "periodicfunc=[]\n",
      "for i in range(0,len(valuerange)):\n",
      "    if valuerange[i]<=0:\n",
      "        periodicfunc.append(exponential(valuerange[i]+2*np.pi))\n",
      "    if 0<valuerange[i]<=2*np.pi:\n",
      "        periodicfunc.append(exponential(valuerange[i]))        \n",
      "    if 2*np.pi<valuerange[i]<4*np.pi:\n",
      "        periodicfunc.append(exponential(valuerange[i]-2*np.pi))\n",
      "        \n",
      "fig1= plt.figure(1, figsize= size)\n",
      "axes1= fig1.add_subplot(1,1,1)\n",
      "axes1.grid(True)\n",
      "axes1.set_xlabel(\"$x$\")\n",
      "axes1.set_ylabel(\"$e^x$\")\n",
      "axes1.set_title(\"$e^x$\")\n",
      "random=axes1.semilogy(valuerange, exponential(valuerange),\"ro\")\n",
      "random=axes1.semilogy(valuerange, periodicfunc,\"bo\")\n",
      "\n",
      "\n"
     ],
     "inputs": [],
     "language": "python",
     "metadata": {},
     "outputs": [],
     "prompt_number": 141
    },
    {
     "cell_type": "code",
     "collapsed": false,
     "input": [
      "\n",
      "fig2= plt.figure(2, figsize= size)\n",
      "axes2= fig2.add_subplot(111)\n",
      "axes2.grid(True)\n",
      "axes2.set_xlabel(\"$x$\")\n",
      "axes2.set_title(\"$cos(cos(x))\")\n",
      "axes2.set_ylabel(\"$cos(cos(x))$\")\n",
      "graph= axes2.plot(valuerange, coscos(valuerange),\"bo\")\n",
      "\n"
     ],
     "inputs": [],
     "language": "python",
     "metadata": {},
     "outputs": [],
     "prompt_number": 142
    },
    {
     "cell_type": "markdown",
     "metadata": {},
     "source": [
      "As mentioned, these functions are extended periodically over the real line with a period of $2\\pi$. Thus we compute their first 51 fourier coefficents as follows\n",
      "\n",
      "\\begin{align}\n",
      "a_0 &= \\frac{1}{2\\pi}\\int^{2\\pi}_0 f(x)dx\\\\\n",
      "a_n &= \\frac{1}{\\pi}\\int^{2\\pi}_0 f(x)cos(nx)dx\\\\\n",
      "b_n &= \\frac{1}{\\pi}\\int^{2\\pi}_0 f(x)sin(nx)dx\n",
      "\\end{align}\n",
      "\n",
      "We make use of the $quad$ function to determine the first 25 coeffiecients using a for loop. These coefficients are computed using a for loop for both the functions and then plotted on a semilog and loglog scale"
     ]
    },
    {
     "cell_type": "code",
     "collapsed": false,
     "input": [
      "# to find the vector of 25 pairs of coefficients\n",
      "\n",
      "#find the coefficients for exponential\n",
      "\n",
      "coffexp=[]\n",
      "a0= quad(exponential, 0, 2*np.pi)[0]\n",
      "\n",
      "a0= a0/(2)\n",
      "\n",
      "coffexp.append(a0)\n",
      "for i in range(1,26):\n",
      "    ai= quad(expcos, 0, 2*np.pi, args=(i))[0]\n",
      "    bi= quad(expsin, 0, 2*np.pi, args=(i))[0]\n",
      "    coffexp.append(ai)\n",
      "    coffexp.append(bi)\n",
      "\n",
      "coffexp= (np.array(coffexp))/(np.pi)\n",
      "\n",
      "\n",
      "fig3= plt.figure(3, figsize= size)\n",
      "axes30= fig3.add_subplot(211)\n",
      "axes30.set_xlabel(\"x\")\n",
      "axes30.set_ylabel(\"Coefficients for $e^x$\")\n",
      "axes30.set_title(\"Fourier series coefficients on semilog scale\")\n",
      "axes30.grid(True)\n",
      "graph= axes30.semilogy( abs(coffexp), \"ro\")\n",
      "\n",
      "axes31= fig3.add_subplot(212)\n",
      "axes31.set_xlabel(\"x\")\n",
      "axes31.set_ylabel(\"Coefficients for $e^x$\")\n",
      "axes31.set_title(\"Fourier series coefficients on loglog scale\")\n",
      "axes31.grid(True)\n",
      "graph= axes31.loglog( abs(coffexp), \"ro\")\n",
      "plt.tight_layout()\n",
      "\n",
      "\n"
     ],
     "inputs": [],
     "language": "python",
     "metadata": {},
     "outputs": [],
     "prompt_number": 143
    },
    {
     "cell_type": "code",
     "collapsed": false,
     "input": [
      "# to find the vector of 25 coefficients\n",
      "\n",
      "#find the coefficients for exponential\n",
      "\n",
      "coffcc=[]\n",
      "a0= quad(coscos, 0, 2*np.pi)[0]\n",
      "\n",
      "a0= a0/(2)\n",
      "coffcc.append(a0)\n",
      "for i in range(1,26):\n",
      "    ai= quad(cccos, 0, 2*np.pi, args=(i))[0]\n",
      "    bi= quad(ccsin, 0, 2*np.pi, args=(i))[0]\n",
      "    coffcc.append(ai)\n",
      "    coffcc.append(bi)\n",
      "\n",
      "coffcc= (np.array(coffcc))/(np.pi)\n",
      "\n",
      "\n",
      "fig4= plt.figure(4, figsize= size)\n",
      "axes40= fig4.add_subplot(2,1,1)\n",
      "axes40.set_xlabel(\"x\")\n",
      "axes40.set_ylabel(\"Coefficients for $cos(cos(x))$\")\n",
      "axes40.set_title(\"Fourier series coefficients on semilog scale\")\n",
      "axes40.grid(True)\n",
      "graph= axes40.semilogy( abs(coffcc), \"ro\")\n",
      "\n",
      "axes41= fig4.add_subplot(2,1,2)\n",
      "axes41.loglog( abs(coffcc), \"ro\")\n",
      "axes41.set_xlabel(\"x\")\n",
      "axes41.set_ylabel(\"Coefficients for $cos(cos(x))$\")\n",
      "axes41.grid(True)\n",
      "axes41.set_title(\"Fourier series coefficients on loglog scale\")\n",
      "\n",
      "plt.tight_layout()\n",
      "\n"
     ],
     "inputs": [],
     "language": "python",
     "metadata": {
      "scrolled": false
     },
     "outputs": [],
     "prompt_number": 144
    },
    {
     "cell_type": "markdown",
     "metadata": {},
     "source": [
      "The least squares approach is an alternate approach to direct integration. Here we try to approximate the given functions $f_1$ and $f_2$ with only 25 sinusoids. The vector $x$ in the following code contains 400 equally spaced values from $0$ to $2\\pi$ (inclusive). For a given function, the following code constructs a vector $b$ of the values of the function at each of the values in $x$. The vector A is the matrix\\\\\n",
      "\n",
      "A= $\\left(\n",
      "\\begin{matrix}\n",
      "1 & cosx_1 & sinx_1 & ... & cos25x_1 & sin25x_1\\\\\n",
      "1 & cosx_2 & sinx_2 & ... & cos25x_2 & sin25x_2\\\\\n",
      "... & ... & ... & ... & ..._1 & ...\\\\\n",
      "1 & cosx_{400} & sinx_{400} & ... & cos25x_{400} & sin25x_{400}\n",
      "\\end{matrix}\n",
      "\\right)$\n",
      "\n",
      "The piece of code $c= np.linalg.lstsq(A,b)[0]$ determines a vector $c$ that best suits the equation \n",
      "\\begin{equation}\n",
      "Ac = b\n",
      "\\end{equation}"
     ]
    },
    {
     "cell_type": "code",
     "collapsed": false,
     "input": [
      "x= np.linspace(0, 2*np.pi, 401)\n",
      "x= x[:-1]\n",
      "A= np.zeros((400,51))\n",
      "A[:,0]= 1\n",
      "for i in range(1,26):\n",
      "    A[:,2*i -1]= np.cos(i*x)\n",
      "    A[:,2*i]= np.sin(i*x)\n",
      "    \n",
      "b_exp= exponential(x)\n",
      "b_cc= coscos(x)\n",
      "\n",
      "c_exp= np.linalg.lstsq(A,b_exp)[0]\n",
      "c_cc= np.linalg.lstsq(A,b_cc)[0]\n"
     ],
     "inputs": [],
     "language": "python",
     "metadata": {},
     "outputs": [],
     "prompt_number": 145
    },
    {
     "cell_type": "markdown",
     "metadata": {},
     "source": [
      "The obtained coefficients are plotted on the corresponding figures to compare the deviation with the coefficients obtained from the $quad$ function. "
     ]
    },
    {
     "cell_type": "code",
     "collapsed": false,
     "input": [
      "\n",
      "graph= axes30.semilogy(abs(c_exp), \"go\")\n",
      "graph= axes31.loglog(abs(c_exp), \"go\")\n",
      "fig3\n"
     ],
     "inputs": [],
     "language": "python",
     "metadata": {},
     "outputs": [],
     "prompt_number": 146
    },
    {
     "cell_type": "code",
     "collapsed": false,
     "input": [
      "graph= axes40.semilogy(abs(c_cc), \"go\")\n",
      "graph= axes41.loglog(abs(c_cc), \"go\")\n",
      "fig4\n"
     ],
     "inputs": [],
     "language": "python",
     "metadata": {
      "scrolled": false
     },
     "outputs": [],
     "prompt_number": 147
    },
    {
     "cell_type": "markdown",
     "metadata": {},
     "source": [
      "The errors between the coefficients computed by quad and the least squares approach are computed."
     ]
    },
    {
     "cell_type": "code",
     "collapsed": false,
     "input": [
      "print max(abs(c_exp-coffexp))\n",
      "print max(abs(c_cc-coffcc))\n"
     ],
     "inputs": [],
     "language": "python",
     "metadata": {
      "scrolled": true
     },
     "outputs": [],
     "prompt_number": 148
    },
    {
     "cell_type": "markdown",
     "metadata": {},
     "source": [
      "The vector $Ac$ is computed to determine the value of the function at the 400 points given by vector x. This is doen for both the functions and plotted on the correspoding graphs in green."
     ]
    },
    {
     "cell_type": "code",
     "collapsed": false,
     "input": [
      "expvalues= np.dot(A,c_exp)\n",
      "\n",
      "graph= axes1.semilogy(x, expvalues, 'go')\n",
      "fig1"
     ],
     "inputs": [],
     "language": "python",
     "metadata": {},
     "outputs": [],
     "prompt_number": 149
    },
    {
     "cell_type": "code",
     "collapsed": false,
     "input": [
      "ccvalues= np.dot(A,c_cc)\n",
      "graph=axes2.plot(x, ccvalues, \"go\")\n",
      "fig2"
     ],
     "inputs": [],
     "language": "python",
     "metadata": {},
     "outputs": [],
     "prompt_number": 150
    },
    {
     "cell_type": "markdown",
     "metadata": {},
     "source": [
      "# Discussion and conlusion\n",
      "\n",
      "From figure1 and figure2 we note that the function $e^x$ is clearly aperodic and the function $cos(cos(x))$ is periodic with a fundamental period $\\pi$. The fourier series with the coefficients computed will result in $2\\pi$ periodic function that is extended to the real line. Further upon computing and plotting the fourier coefficients, the $b_n$ coefficeints for the $cos(cos(x)$ function turn out to be zero. This, of course is a consequence of the function being even, which can alternately be understood as symmetry about the line $x = \\pi$. The fourier coefficients do not converge as quickly for $e^x$ as they do for $cos(cos(x)$. This is because the latter function is infinitely diffrentiable and thus its fourier coefficients experience exponential decay. The exponential function, extended the way it is, has jump discontinuities and thus, its $k^th$ coefficients decay as $\\frac{1}{k}$ which is slower than exponential decay. \n",
      "Thus in the case of $e^x$ the loglog plot looks linear as its coefficients decay as  $\\frac{1}{k}$.\n",
      "\\begin{align}\n",
      "a_k  &\\propto  \\frac{1}{k^r}\\\\\n",
      "log(a_k)  &\\propto -log(k)\n",
      "\\end{align}\n",
      "\n",
      "However in the case of $cos(cos(x))$, the coefficients decay as $r^k$\n",
      "\\begin{align}\n",
      "a_k  &\\propto  r^k,   &r<1\\\\\n",
      "log(a_k)  &\\propto  klog(r),  &log(r)<0\n",
      "\\end{align}\n",
      "This results in the semilog plot being a straight line with a negative slope. \n",
      "\n",
      "From the replotted figures, it is evident that the fourier coefficients agree closely for the $cos(cos(x))$ function. This follows from the above argument. Rapid decay of the coefficients implies that the first few coefficients are sufficient to \"fit\" or describe the function well and hence will closely agree with the result of the least squares \"best fit\". The same can not be said of the coefficients of the exponential function which decay much slower. Hence the large deviation in coefficients. This also explains why the recomputed function ($Ac$) will not agree closely with the original function in case of $e^x$. This plot displays ripples due to Gibbs phenomenon which occurs due to the presence of a jump discontinuity in the function and the use of a finite sequence approximation.\n",
      "\n",
      "Thus, this work makes a study of the variation of the fourier coefficients and the rate of convergence of the series for different functions. It does so by making comprehensive use of scientific python to determine the coefficients in multiple ways, plot them and compare them.   "
     ]
    },
    {
     "cell_type": "code",
     "collapsed": false,
     "input": [],
     "inputs": [],
     "language": "python",
     "metadata": {},
     "outputs": [],
     "prompt_number": null
    }
   ],
   "metadata": {}
  }
 ]
}