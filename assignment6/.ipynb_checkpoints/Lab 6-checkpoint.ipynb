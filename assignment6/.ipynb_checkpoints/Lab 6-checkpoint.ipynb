{
 "cells": [
  {
   "cell_type": "markdown",
   "metadata": {},
   "source": [
    "# Abstract \n",
    "\n",
    "Tubelights work by the emission of electrons at the cathode that undergo accelecration due to an applied electric field and excite atoms which emit photons during subsequent relaxation. Thus, models of tubelights can be built efficiently and accurately using Python with the aid of libraries such as numpy and scipy that enable one to visualise the working of this device using intensity plots and phase spaces.\n",
    "\n",
    "# Introduction \n",
    "\n",
    "The tubelight is modeled as a one dimensional two terminal device with the ends being the cathode and the anode. Electrons are emitted at the anode and accelerate under an applied uniform electric field $E_0$ with an acceleration fo $1ms^{-2}$. When they reach a critical velocity $u_0$ they can undergo fruitful collisions with atoms that get excited and relax immediately to emit photons. Electrons that reach the anode are lost. This model is simulated for $nk$ turns, each beginning with an injection of electrons. The injection of electrons is modeled as follows as a normally distributed random variable.\n",
    "\\begin{equation}\n",
    "m = N + Msig \\cdot X\n",
    "\\end{equation}\n",
    "where X is a normally distributed random variable. Thus \n",
    "\\begin{align}\n",
    "E(m) &=N + Msig \\cdot E(X) = N\\\\\n",
    "Var(m) &= Msig^2Var(X)\\\\\n",
    "\\end{align}\n",
    "Also $E(X)$ is chosen to be $0$. The integer part of $m$ is chosen to be the number of electrons injected. Msig determines the variance of the random variable m.\n",
    "\n",
    "# Code and results\n",
    "\n",
    "The necessary libraries are imported and the default size for images is set."
   ]
  },
  {
   "cell_type": "code",
   "execution_count": 1,
   "metadata": {},
   "outputs": [],
   "source": [
    "\n",
    "\n",
    "from __future__ import division\n",
    "% matplotlib inline\n",
    "import matplotlib.pyplot as plt\n",
    "from matplotlib import cm, colors\n",
    "import numpy as np\n",
    "import sys\n",
    "size=(10,8)\n"
   ]
  },
  {
   "cell_type": "code",
   "execution_count": 2,
   "metadata": {},
   "outputs": [],
   "source": [
    "# defining the necessary functions"
   ]
  },
  {
   "cell_type": "markdown",
   "metadata": {},
   "source": [
    "The default parameters are set as given below. Alternately the same can be taken from commandline arguments. The default length of the tube is taken to be $n=100$ units. Further, the probability that a sufficiently energitic electron undergoes a collision in a turn is given by $p$. "
   ]
  },
  {
   "cell_type": "code",
   "execution_count": 3,
   "metadata": {},
   "outputs": [],
   "source": [
    "# defining the constants \n",
    "\n",
    "# defaults\n",
    "\n",
    "n= 100\n",
    "M= 5\n",
    "nk= 500\n",
    "u0= 7\n",
    "p= 0.5\n",
    "Msig=2"
   ]
  },
  {
   "cell_type": "code",
   "execution_count": 4,
   "metadata": {},
   "outputs": [],
   "source": [
    "# # considering the command line arguments\n",
    "# if len(sys.argv)>0:\n",
    "#     n= int(sys.argv[1])\n",
    "#     M= int(sys.argv[2])\n",
    "#     nk= int(sys.argv[3])\n",
    "#     u0= int(sys.argv[4])\n",
    "#     p= int(sys.argv[5])"
   ]
  },
  {
   "cell_type": "markdown",
   "metadata": {},
   "source": [
    "# Edit this\n",
    "The length list, in which each element represents one electron, is made sufficiently large. Other arrays are defined as follows\n",
    "\\begin{array}{c c c}\n",
    "xx &-& electron position\n",
    "u &-& electron velocity\n",
    "dx &-& electron displacement in one turn\n",
    "I &-& list of positions of every photon ever emitted\n",
    "X &-& list of positions of electrons that existed at the end of every turn\n",
    "V &-& the electron velocities corresponding to X\n",
    "\n",
    "\\end{array}"
   ]
  },
  {
   "cell_type": "code",
   "execution_count": 5,
   "metadata": {},
   "outputs": [],
   "source": [
    "length= n*M # shouldn't it be nk*M?\n",
    "\n",
    "# electron information\n",
    "\n",
    "xx= np.zeros((length))   # electron position\n",
    "u= np.zeros((length))    # electron velocity\n",
    "dx= np.zeros((length))   # disp. in current turn\n",
    "\n",
    "# extra info i don't really understand why i'm defining\n",
    "\n",
    "I=[]\n",
    "X=[]\n",
    "V=[]\n",
    "            "
   ]
  },
  {
   "cell_type": "markdown",
   "metadata": {},
   "source": [
    "The code does the following-\n",
    " - ii finds the positions of electrons in the array xx which exist. $0$ in the xx array indicates the non-existence of an electron. Each existing electron undergoes motion according to the equations\n",
    "\\begin{align}\n",
    "dx &= u_0t + \\frac{1}{2}at^2\\\\\n",
    "u &= u_0 + at\\\\\n",
    "\\end{align}\n",
    " - Due to this motion, some electrons might reach the anode and get absorbed. Correspondingly, their xx, u, dx values are set to zero. Which basically translates to their disappearance from our simulation universe.\n",
    " - Some electons obtain critical velocity $u_0$. Of these a few undergo collisions leading to immediate photon emission. This is modeled as a uniform random variable. Each energitic electron is assigned a random number (following a uniform distribution) and each electron collides if this number is lesser than $p$ which means the probability of a collsiion is $p$.\n",
    " - The velocities of these colliding electrons are set to zero as they lose all their energy in the collision. Since the collision might occur at any position betweet $x_i$ and $x_{i+1}$ (where $x_i$ is the position of some colliding electron corresponding to the $i^{th}$ turn) the new position is updated by subtracting some random fraction of the displacement that had been added to the position of the colliding electron in that turn.\n",
    " - The positions where the collisions occur are appended to the list $I$. \n",
    " - New electrons are generated as explained in Section 1 and fill the empty positionsin the xx lists."
   ]
  },
  {
   "cell_type": "code",
   "execution_count": 6,
   "metadata": {
    "scrolled": true
   },
   "outputs": [
    {
     "name": "stdout",
     "output_type": "stream",
     "text": [
      "CPU times: user 108 ms, sys: 8 ms, total: 116 ms\n",
      "Wall time: 109 ms\n"
     ]
    }
   ],
   "source": [
    "%%time\n",
    "ii= np.where(xx>0) \n",
    "for _ in range(0,nk):\n",
    "# to find where electrons are active\n",
    "   \n",
    "    dx[ii]= u[ii]+0.5\n",
    "    xx[ii]= xx[ii]+dx[ii]\n",
    "    u[ii]= u[ii]+1\n",
    "    anode= np.where(xx>n)\n",
    "    xx[anode]= 0\n",
    "    dx[anode]= 0\n",
    "    u[anode]= 0\n",
    "    kk= np.where(u>u0) # electrons with energy\n",
    "    ll= np.where(np.random.random(len(kk[0]))>p)\n",
    "    kl= np.array(kk)[0][ll]  # which electrons will ionize\n",
    "    u[kl]= 0\n",
    "    rho= np.random.random(1)[0]\n",
    "    xx[kl]= xx[kl]- dx[kl]*rho # minus cos xx has already been updated with an addition of dx in the loop\n",
    "    I.extend(xx[kl])\n",
    "    m= int(M + Msig*np.random.randn()) # mean  5 standard deviation 2\n",
    "    new= np.where(xx==0)\n",
    "    xx[new[0][:m]]=1\n",
    "    ii= np.where(xx>0)\n",
    "    X.extend(xx[ii])\n",
    "    V.extend(u[ii])\n",
    "  \n",
    "    \n",
    "    \n",
    "\n",
    "    "
   ]
  },
  {
   "cell_type": "code",
   "execution_count": 7,
   "metadata": {
    "scrolled": false
   },
   "outputs": [
    {
     "data": {
      "image/png": "[encoded data removed]",
      "text/plain": [
       "<matplotlib.figure.Figure at 0x7f74f0117d90>"
      ]
     },
     "metadata": {},
     "output_type": "display_data"
    }
   ],
   "source": [
    "plt.figure(0,figsize=size)\n",
    "plt.title(\"Electron density\",fontsize=18)\n",
    "plt.xlabel(\"Position\",fontsize=18)\n",
    "plt.ylabel(\"Number of electrons to have ever occupied the bin\",fontsize=18)\n",
    "plt.grid(True)\n",
    "plt.hist(X,np.arange(0,101,1),color=\"white\")\n",
    "plt.show()    \n",
    "plt.close()"
   ]
  },
  {
   "cell_type": "markdown",
   "metadata": {},
   "source": [
    "The following histogram shows I vs position. This is a representation of the average value of the number of photons emitted between any two consecutive integral positions along hte tubelight and thus a representation of the average intensity."
   ]
  },
  {
   "cell_type": "code",
   "execution_count": 8,
   "metadata": {},
   "outputs": [
    {
     "data": {
      "image/png": "[encoded data removed]",
      "text/plain": [
       "<matplotlib.figure.Figure at 0x7f75092a9350>"
      ]
     },
     "metadata": {},
     "output_type": "display_data"
    }
   ],
   "source": [
    "plt.figure(1,figsize=size)\n",
    "plt.title(\"Intensity (average) of the tubelight vs position\", fontsize=18)\n",
    "plt.xlabel(\"Position\", fontsize=18)\n",
    "plt.ylabel(\"Intensity/ Number of photons emitted\",fontsize=18)\n",
    "plt.grid(True)\n",
    "ret=plt.hist(I,np.arange(0,101,1),color=\"white\")\n",
    "vals=ret[0]\n",
    "vals=1-(vals/max(vals))\n",
    "norm = colors.Normalize(vals.min(), vals.max())\n",
    "for thisfrac, thispatch in zip(vals, ret[2]):\n",
    "    color = cm.Greys(norm(thisfrac))\n",
    "    thispatch.set_facecolor(color)\n",
    "plt.show()    \n",
    "plt.close()  "
   ]
  },
  {
   "cell_type": "markdown",
   "metadata": {},
   "source": [
    "We plot the phase space of the electrons and also make a table of the centers of the bins and the intensity (number of photons) values."
   ]
  },
  {
   "cell_type": "code",
   "execution_count": 9,
   "metadata": {},
   "outputs": [
    {
     "data": {
      "image/png": "[encoded data removed]",
      "text/plain": [
       "<matplotlib.figure.Figure at 0x7f74eac794d0>"
      ]
     },
     "metadata": {},
     "output_type": "display_data"
    }
   ],
   "source": [
    "plt.figure(2,figsize=size)\n",
    "plt.xlabel(\"X\",fontsize=18)\n",
    "plt.title(\"Electron phase space\",fontsize=18)\n",
    "plt.ylabel(\"V\",fontsize=18)\n",
    "plt.grid(True)\n",
    "plt.plot(X,V,\"bx\")\n",
    "plt.show() \n",
    "plt.close()"
   ]
  },
  {
   "cell_type": "markdown",
   "metadata": {},
   "source": [
    "The following is a 2D extension of the one dimensional model wherein the intensity value along $y$ axis has been kept the same at a given $x$."
   ]
  },
  {
   "cell_type": "code",
   "execution_count": 10,
   "metadata": {},
   "outputs": [
    {
     "data": {
      "image/png": "[encoded data removed]",
      "text/plain": [
       "<matplotlib.figure.Figure at 0x7f74eaed7d10>"
      ]
     },
     "metadata": {},
     "output_type": "display_data"
    }
   ],
   "source": [
    "intensity=np.array([ret[0]]*100)\n",
    "y,x=np.meshgrid(ret[1][:-1],ret[1][:-1])\n",
    "plt.figure(figsize=(14,4))\n",
    "plt.contourf(y,x,-intensity,cmap=cm.Blues)\n",
    "plt.title(\"Tubelight, extension from 1D to 2D\", fontsize=18)\n",
    "plt.xlabel(\"x\", fontsize=18)\n",
    "plt.show()\n",
    "plt.close()"
   ]
  },
  {
   "cell_type": "code",
   "execution_count": 11,
   "metadata": {},
   "outputs": [
    {
     "name": "stdout",
     "output_type": "stream",
     "text": [
      "Intensity data \n",
      "\n",
      "xpos     count\n",
      "0.5       0.0\n",
      "1.5       0.0\n",
      "2.5       0.0\n",
      "3.5       0.0\n",
      "4.5       0.0\n",
      "5.5       0.0\n",
      "6.5       0.0\n",
      "7.5       0.0\n",
      "8.5       0.0\n",
      "9.5       0.0\n",
      "10.5      0.0\n",
      "11.5      0.0\n",
      "12.5      0.0\n",
      "13.5      0.0\n",
      "14.5      0.0\n",
      "15.5      0.0\n",
      "16.5      0.0\n",
      "17.5      0.0\n",
      "18.5      0.0\n",
      "19.5      0.0\n",
      "20.5      0.0\n",
      "21.5      0.0\n",
      "22.5      0.0\n",
      "23.5      0.0\n",
      "24.5      0.0\n",
      "25.5      90.0\n",
      "26.5      139.0\n",
      "27.5      187.0\n",
      "28.5      179.0\n",
      "29.5      152.0\n",
      "30.5      139.0\n",
      "31.5      111.0\n",
      "32.5      109.0\n",
      "33.5      70.0\n",
      "34.5      85.0\n",
      "35.5      59.0\n",
      "36.5      67.0\n",
      "37.5      67.0\n",
      "38.5      45.0\n",
      "39.5      72.0\n",
      "40.5      60.0\n",
      "41.5      51.0\n",
      "42.5      23.0\n",
      "43.5      36.0\n",
      "44.5      30.0\n",
      "45.5      36.0\n",
      "46.5      29.0\n",
      "47.5      21.0\n",
      "48.5      31.0\n",
      "49.5      23.0\n",
      "50.5      31.0\n",
      "51.5      35.0\n",
      "52.5      44.0\n",
      "53.5      51.0\n",
      "54.5      74.0\n",
      "55.5      79.0\n",
      "56.5      63.0\n",
      "57.5      88.0\n",
      "58.5      77.0\n",
      "59.5      77.0\n",
      "60.5      81.0\n",
      "61.5      73.0\n",
      "62.5      85.0\n",
      "63.5      70.0\n",
      "64.5      60.0\n",
      "65.5      73.0\n",
      "66.5      81.0\n",
      "67.5      60.0\n",
      "68.5      60.0\n",
      "69.5      57.0\n",
      "70.5      73.0\n",
      "71.5      45.0\n",
      "72.5      54.0\n",
      "73.5      51.0\n",
      "74.5      47.0\n",
      "75.5      40.0\n",
      "76.5      52.0\n",
      "77.5      58.0\n",
      "78.5      46.0\n",
      "79.5      48.0\n",
      "80.5      47.0\n",
      "81.5      45.0\n",
      "82.5      67.0\n",
      "83.5      41.0\n",
      "84.5      49.0\n",
      "85.5      57.0\n",
      "86.5      55.0\n",
      "87.5      67.0\n",
      "88.5      68.0\n",
      "89.5      55.0\n",
      "90.5      64.0\n",
      "91.5      66.0\n",
      "92.5      54.0\n",
      "93.5      48.0\n",
      "94.5      37.0\n",
      "95.5      35.0\n",
      "96.5      24.0\n",
      "97.5      17.0\n",
      "98.5      6.0\n",
      "99.5      3.0\n"
     ]
    }
   ],
   "source": [
    "bins=ret[1]\n",
    "bins= 0.5*(bins[0:-1]+bins[1:])\n",
    "print (\"Intensity data \\n\")\n",
    "print (\"xpos     count\")\n",
    "for i in range(len(bins)):\n",
    "    if bins[i]<10:\n",
    "        print str(bins[i])+\"       \"+str(ret[0][i])\n",
    "    else:\n",
    "        print str(bins[i])+\"      \"+str(ret[0][i])\n"
   ]
  },
  {
   "cell_type": "markdown",
   "metadata": {},
   "source": [
    "# Discussion and Conclusion-\n",
    "\n",
    "The population plot of Figure 1 indicates the number of electrons that have been at a given position during the simulation. Since all the electrons start at the same point the first bin has the highest peak. This is followed by $x\\approx25$ which is where most electrons have the energy necessary for ionisation. \n",
    "\n",
    "However the plot of Figure 2 is of far greater interest. It is effectively a plot of the number of electron atom collisions or the number of photons emitted at a given point or in a given bin. Since most of the electrons have insufficent energy for the first 20 - 25 units or so, there are no bars in this region. However most of the electrons gain sufficient energy by 25 (for the given defaults), and thus cause photon emission. Thus there is a huge peak at this point. Electrons that don't suffer collisions move on and perhaps do so at later stages contributing to the further bars. The next set of peaks is noticed at around 60, which incidentally happens to be nearly twice the initial value of position of the first peak. This could probably be due to the face that  a majority of the electrons that suffered  collisions at the position of the first peak have gained enought energy for a second set of collisions.\n",
    "\n",
    "The phase space further adds insight. The phase space is the set of all possible states of a system. In this case, it is evident that no high velocity, low position states are present. This arises from the fact that for all low valus of position, until the first peak in intensity, the velocity of the electrons is only increasing and there are no collisions. Once the electrons have sufficient energy, they begin to suffer collisions which means they end up with zero velocity at multiple values of X and similarly at higher values of velocity for other positions. This means that a multitude of combinations of $X_i$ and $V_i$ are possible which is made obvious by the phase space plot.\n",
    "\n",
    "To conclude, the various scientific python libraries have been made use of effectively to model what is a fairly complex situation which inherently involves some randomness. Further the intensity distribution of the tube is studied and found to match expectations."
   ]
  },
  {
   "cell_type": "code",
   "execution_count": null,
   "metadata": {},
   "outputs": [],
   "source": []
  }
 ],
 "metadata": {
  "kernelspec": {
   "display_name": "Python 2",
   "language": "python",
   "name": "python2"
  },
  "language_info": {
   "codemirror_mode": {
    "name": "ipython",
    "version": 2
   },
   "file_extension": ".py",
   "mimetype": "text/x-python",
   "name": "python",
   "nbconvert_exporter": "python",
   "pygments_lexer": "ipython2",
   "version": "2.7.6"
  }
 },
 "nbformat": 4,
 "nbformat_minor": 2
}
